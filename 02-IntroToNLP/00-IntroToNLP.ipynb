{
 "cells": [
  {
   "cell_type": "markdown",
   "metadata": {},
   "source": [
    "## Introduction to Natural Language Processing (NLP) using Python's NLTK\n",
    "\n",
    "One of the most frequent tasks in computational text analysis is quickly summarizing the content of text. In this lesson we will learn how to summarze text by counting frequent words using Python's nltk. In the process we'll learn a different way to count the words in a text, and we'll cover some common pre-processing steps. \n",
    "\n",
    "Natural Language Processing is an umbrella term that incorporates many techiques and methods to process, analyze, and understand natural languages (as opposed to artificial languages like logics, or Python).\n",
    "\n",
    "### Learning Goals:\n",
    "The goal of this lesson is to jump right in to text analysis and natural language processing. This lesson will demonstrate some neat things you can do with a minimal amount of coding.  <br /> <br />  In this tutorial you will:\n",
    "\n",
    "* Get an introduction to the Python package NLTK, what functionality it offers, and learn some important NLP terms\n",
    "* Learn how to do a variety of forms of counting using NLTK, and think about why these might help researchers analyze text\n",
    "* Learn about pre-processing steps and why you might or might not do them\n",
    "\n",
    "\n",
    "### Lesson Outline:\n",
    "* [Tokenizing Text and Type-Token Ratio](#ttr)\n",
    "    * Number of words\n",
    "    * Type-Token Ratio\n",
    "* [Most frequent words](#frequent_words)\n",
    "* [Pre-Processing:](#pre_processing)\n",
    "    * Changing words to lowercase\n",
    "    * Removing stop words\n",
    "* [Excercise: find the type-token ratio and the most frequent words for our two novels](#exercise)\n",
    "\n",
    "\n",
    "\n",
    "### Key Terms:\n",
    "\n",
    "* *stop words*: \n",
    "    * The most common words in a language.\n",
    "* *tokenization*:\n",
    "    * Given a character sequence and a defined document unit, tokenization is the task of chopping it up into pieces, called tokens , perhaps at the same time throwing away certain characters, such as punctuation. \n",
    "* *token*:\n",
    "    *  A token is an instance of a sequence of characters in some particular document that are grouped together as a useful semantic unit for processing.\n",
    "* *type*:\n",
    "    * A type is the class of all tokens containing the same character sequence.\n",
    "\n",
    "\n",
    "### Further Resources:\n",
    "\n",
    "Check out the full range of techniques included in Python's nltk package here: http://www.nltk.org/book/"
   ]
  },
  {
   "cell_type": "markdown",
   "metadata": {},
   "source": [
    "### 0. Assigning Text as a Variable in Python\n",
    "\n",
    "First, we assign a sample sentence, our \"text\", to a variable called \"sentence\".\n",
    "\n",
    "Note: This sentence is a quote about what digital humanities means, from digital humanist Kathleen Fitzpatrick. Source: \"On Scholarly Communication and the Digital Humanities: An Interview with Kathleen Fitzpatrick\", *In the Library with the Lead Pipe*"
   ]
  },
  {
   "cell_type": "code",
   "execution_count": null,
   "metadata": {
    "collapsed": true
   },
   "outputs": [],
   "source": [
    "#assign the desired sentence to the variable called 'sentence.'\n",
    "sentence = \"For me it has to do with the work that gets done at the crossroads of \\\n",
    "digital media and traditional humanistic study. And that happens in two different ways. \\\n",
    "On the one hand, it's bringing the tools and techniques of digital media to bear \\\n",
    "on traditional humanistic questions; on the other, it's also bringing humanistic modes \\\n",
    "of inquiry to bear on digital media.\"\n",
    "\n",
    "#print the content\n",
    "print(sentence)"
   ]
  },
  {
   "cell_type": "markdown",
   "metadata": {},
   "source": [
    "<a id='ttr'></a>\n",
    "### 1. Tokenizing Text and Type-Token Ratios\n",
    "\n",
    "\n",
    "Reminder: computers are completely naive. The computer has no idea that the variable \"sentence\" is in a natural language, that it is composed of words (it doesn't even know what a word is), that it is a sentence, that punctuation is different than a letter, etc. Everything is 0s and 1s for a computer. We have to tell it everything else.\n",
    "\n",
    "We have been splitting text on white spaces to approximate words, with each \"word\" as an element of a list.\n",
    "\n",
    "Question: Why is this a problem?\n",
    "\n",
    "Computational linguists have done a lot of work figuring out better ways to split a text into meaningful chunks that mimic natural languages. Chunking the text into meaningful bits is referred to as *tokenizing* text, and produces a list of *tokens*."
   ]
  },
  {
   "cell_type": "code",
   "execution_count": null,
   "metadata": {
    "collapsed": true
   },
   "outputs": [],
   "source": [
    "#First import the Python package nltk (Natural Language Tool Kit)\n",
    "import nltk\n",
    "\n",
    "#The difficult work is done for us.\n",
    "# We simply import the function, \"word_tokenize\", which splits the text into tokens\n",
    "from nltk import word_tokenize\n",
    "\n",
    "#create new variable that applies the word_tokenize function to our sentence.\n",
    "sentence_tokens = word_tokenize(sentence)\n",
    "\n",
    "#This new variable contains the tokenized text. What datatype is the variable \"sentence_tokens\"?\n",
    "print(sentence_tokens)"
   ]
  },
  {
   "cell_type": "markdown",
   "metadata": {},
   "source": [
    "Notice each token is either a word or punctuation. Notice also this is not a trivial task, nor does this completely solve the issue.\n",
    "\n",
    "For example, one of these tokens is [\"'s\"], which indicates \"is\" in the contraction \"it is\". How would we distinguish this from [\"'s\"] as a possessive? Should we rather tokenize it's to ['it', 'is']? But then we would erase the contraction, which may be important later. There are many questions like this. The problem with natural language is they are ambiguous, and never strictly follow a set of rules.\n",
    "\n",
    "Assumming we're happy with the tokenization, why is it helpful?\n",
    "\n",
    "We can now summarize the sentence/text in interesting and potentially helpful ways. For example, we can count the number of tokens in the sentence."
   ]
  },
  {
   "cell_type": "code",
   "execution_count": null,
   "metadata": {
    "collapsed": true
   },
   "outputs": [],
   "source": [
    "#The number of tokens is the length of the list, or the number of elements in the list\n",
    "print(len(sentence_tokens))"
   ]
  },
  {
   "cell_type": "markdown",
   "metadata": {},
   "source": [
    "Question: Is this the same as the number of words? Why?"
   ]
  },
  {
   "cell_type": "markdown",
   "metadata": {},
   "source": [
    "We might want to remove punctuation, so we can better identify the number of words, and can do more analyses on it. We can remove punctuation using list comprehension! And by important a new package, string, which has a list of common punctuation. This is identified using the command string.punctuation"
   ]
  },
  {
   "cell_type": "code",
   "execution_count": null,
   "metadata": {
    "collapsed": true
   },
   "outputs": [],
   "source": [
    "import string\n",
    "print(string.punctuation)\n",
    "\n",
    "#assign the string of common punctuation symbols to a variable and turn it into a list\n",
    "punctuations = list(string.punctuation)\n",
    "\n",
    "#see what punctuation is included\n",
    "print(punctuations)"
   ]
  },
  {
   "cell_type": "markdown",
   "metadata": {},
   "source": [
    "Now we can remove punctuation using list comprehension."
   ]
  },
  {
   "cell_type": "code",
   "execution_count": null,
   "metadata": {
    "collapsed": true
   },
   "outputs": [],
   "source": [
    "sentence_tokens_clean = [word for word in sentence_tokens if word not in punctuations]\n",
    "print(sentence_tokens_clean)"
   ]
  },
  {
   "cell_type": "markdown",
   "metadata": {},
   "source": [
    "We can also calculate the type-token ratio (TTR). We know what a token is. But many tokens are repeated in a text. For example, in this sentence, the token \"the\" appears 5 times. \"The\" is a type. The 5 \"the\"s in the sentence are tokens. The TTR is simply the number of types divided by the number of tokens. A high TTR indicates a large amount of lexical variation or lexical diversity and a low TTR indicates relatively little lexical variation. The type-token ratio of speech, for example, is less than that of written language. What might we expect of the two novels we have been analyzing?"
   ]
  },
  {
   "cell_type": "code",
   "execution_count": null,
   "metadata": {
    "collapsed": true
   },
   "outputs": [],
   "source": [
    "set(sentence_tokens_clean)"
   ]
  },
  {
   "cell_type": "markdown",
   "metadata": {},
   "source": [
    "Question: What do you notice about this output? What datatype is it?"
   ]
  },
  {
   "cell_type": "code",
   "execution_count": null,
   "metadata": {
    "collapsed": true
   },
   "outputs": [],
   "source": [
    "##EX: Print the type-token ratio for this sentence\n",
    "print(len(set(sentence_tokens_clean))/len(sentence_tokens_clean))"
   ]
  },
  {
   "cell_type": "markdown",
   "metadata": {},
   "source": [
    "<a id='frequent_words'></a>\n",
    "### 2. Most Frequent Words\n",
    "\n",
    "We are often also interested in the most frequent words, which can help us quickly summarize a text. NLTK has a built-in function to do this!"
   ]
  },
  {
   "cell_type": "code",
   "execution_count": null,
   "metadata": {
    "collapsed": true
   },
   "outputs": [],
   "source": [
    "#apply the nltk function FreqDist to count the number of times each token occurs.\n",
    "word_frequency = nltk.FreqDist(sentence_tokens)\n",
    "\n",
    "#this creates an NLTK object\n",
    "print(word_frequency)"
   ]
  },
  {
   "cell_type": "code",
   "execution_count": null,
   "metadata": {
    "collapsed": true
   },
   "outputs": [],
   "source": [
    "#print out the 10 most frequent words using the function most_common\n",
    "print(word_frequency.most_common(10))"
   ]
  },
  {
   "cell_type": "markdown",
   "metadata": {},
   "source": [
    "The most frequent words do suggest what the sentence is about, in particular the words \"humanistic\", \"digital\", \"media\", and \"traditional\".\n",
    "\n",
    "But there are many frequent words that are not helpful in summarizing the text, for example, \"the\", \"and\", \"to\", and \".\" So the most frequent words do not necessarily help us understand the content of a text.\n",
    "\n",
    "How can we use a computer to identify important, interesting, or content words in a text? There are many ways to do this. Today, we'll learn one simple way to identify words that will help us summarize the content of a text. We'll explore a different method later. "
   ]
  },
  {
   "cell_type": "markdown",
   "metadata": {},
   "source": [
    "<a id='pre_processing'></a>\n",
    "### 3. Pre-Processing: Lower Case, Removing Stop Words"
   ]
  },
  {
   "cell_type": "markdown",
   "metadata": {},
   "source": [
    "First, scholars typically go through a number of pre-processing steps before getting to the actual analysis. We have already removed punctuation, which is a common pre-processing step. Another common step is converting all words to lower-case, so that the word \"Humanities\" and \"humanities\" count as the same word. (For some tasks this is appropriate. Think of reasons why we might NOT want to do this.)\n",
    "\n",
    "To convert to lower case we use the function lower()"
   ]
  },
  {
   "cell_type": "code",
   "execution_count": null,
   "metadata": {
    "collapsed": true
   },
   "outputs": [],
   "source": [
    "sentence_tokens_clean_lc = [word.lower() for word in sentence_tokens_clean]\n",
    "\n",
    "#see the result\n",
    "print(sentence_tokens_clean_lc)"
   ]
  },
  {
   "cell_type": "code",
   "execution_count": null,
   "metadata": {
    "collapsed": true
   },
   "outputs": [],
   "source": [
    "#Ex: Calculate the type-token ratio for the sentence after you have changed everything to lowercas"
   ]
  },
  {
   "cell_type": "markdown",
   "metadata": {},
   "source": [
    "Words like \"the\", \"to\", and \"and\" are what text analysis call \"stop words.\" Stop words are the most common words in a language, and while necessary and useful for some analysis purposes, do not tell us much about the *substance* of a text. Another common pre-processing steps is to simply remove punctuation and stop words. NLTK contains a built-in stop words list, which we use to remove stop words from our list of tokens."
   ]
  },
  {
   "cell_type": "code",
   "execution_count": null,
   "metadata": {
    "collapsed": true
   },
   "outputs": [],
   "source": [
    "#import the stopwords list\n",
    "from nltk.corpus import stopwords\n",
    "\n",
    "#take a look at what stop words are included:\n",
    "print(stopwords.words('english'))"
   ]
  },
  {
   "cell_type": "markdown",
   "metadata": {},
   "source": [
    "<a id='exercise'></a>\n",
    "### Exericse"
   ]
  },
  {
   "cell_type": "code",
   "execution_count": null,
   "metadata": {
    "collapsed": true
   },
   "outputs": [],
   "source": [
    "####Ex: create a new variable that contains the sentence tokens without the stopwords\n",
    "#Ex: Count the most frequent 10 words on this new variable and print out the results"
   ]
  },
  {
   "cell_type": "markdown",
   "metadata": {},
   "source": [
    "Better! The 10 most frequent words now give us a pretty good sense of the substance of this sentence. But this won't allways be perfect. One solution is to keep adding stop words to our stop word list, but this could go on forever and is not a good solution when processing lots of text.\n",
    "\n",
    "When we calculate TTR, would we want to do this before or after the pre-processing steps? Why?\n",
    "\n",
    "We will go over another way of identifying content words next time, and it involves identifying the part of speech of each word."
   ]
  },
  {
   "cell_type": "code",
   "execution_count": null,
   "metadata": {
    "collapsed": true
   },
   "outputs": [],
   "source": [
    "####Ex: Calculate the TTR for two of the novels in our data folder. Print the most frequent words for these two novels."
   ]
  }
 ],
 "metadata": {
  "kernelspec": {
   "display_name": "Python 3",
   "language": "python",
   "name": "python3"
  },
  "language_info": {
   "codemirror_mode": {
    "name": "ipython",
    "version": 3
   },
   "file_extension": ".py",
   "mimetype": "text/x-python",
   "name": "python",
   "nbconvert_exporter": "python",
   "pygments_lexer": "ipython3",
   "version": "3.5.2"
  }
 },
 "nbformat": 4,
 "nbformat_minor": 1
}
