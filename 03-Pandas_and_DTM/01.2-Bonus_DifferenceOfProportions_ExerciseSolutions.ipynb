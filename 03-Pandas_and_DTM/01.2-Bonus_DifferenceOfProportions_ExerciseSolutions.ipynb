{
 "cells": [
  {
   "cell_type": "markdown",
   "metadata": {},
   "source": [
    "## Exercise Solutions for 01.1-Bounus_DifferenceOfProportions\n",
    "\n",
    "### Exercise: \n",
    "\n",
    "Use the difference of proportions calculation to compare two genres, or two artists, in the music reviews dataset. There are many ways you can do this. Think through the problem in steps."
   ]
  },
  {
   "cell_type": "code",
   "execution_count": null,
   "metadata": {},
   "outputs": [],
   "source": [
    "#First recreate our data\n",
    "import pandas\n",
    "from sklearn.feature_extraction.text import CountVectorizer\n",
    "from sklearn.feature_extraction.text import TfidfVectorizer\n",
    "\n",
    "#create a dataframe called \"df\"\n",
    "df = pandas.read_csv(\"../Data/BDHSI2016_music_reviews.csv\", sep = '\\t', encoding = 'utf-8')\n",
    "\n",
    "#find two artists\n",
    "print(df['artist'].value_counts())"
   ]
  },
  {
   "cell_type": "code",
   "execution_count": null,
   "metadata": {},
   "outputs": [],
   "source": [
    "#concatenate all of the reviews for our two artists together\n",
    "#R.E.M.\n",
    "rem_df = df[df['artist']==\"R.E.M.\"]\n",
    "rem_string = ''.join(x for x in rem_df['body'].tolist())\n",
    "rem_string[:100]"
   ]
  },
  {
   "cell_type": "code",
   "execution_count": null,
   "metadata": {},
   "outputs": [],
   "source": [
    "#Arcade Fire\n",
    "af_df = df[df['artist']==\"Arcade Fire\"]\n",
    "af_string = ''.join(x for x in af_df['body'].tolist())\n",
    "af_string[:100]"
   ]
  },
  {
   "cell_type": "code",
   "execution_count": null,
   "metadata": {},
   "outputs": [],
   "source": [
    "#Concatenate these two string into one list\n",
    "text_list = []\n",
    "text_list.extend((rem_string, af_string))\n",
    "text_list[0]"
   ]
  },
  {
   "cell_type": "code",
   "execution_count": null,
   "metadata": {},
   "outputs": [],
   "source": [
    "#turn our list into a DTM dataframe\n",
    "countvec = CountVectorizer(stop_words=\"english\")\n",
    "text_dtm = pandas.DataFrame(countvec.fit_transform(text_list).toarray(), columns=countvec.get_feature_names())\n",
    "\n",
    "#calculate difference of proportions\n",
    "text_dtm['word_count'] = text_dtm.sum(axis=1)\n",
    "text_dtm = text_dtm.iloc[:,0:].div(text_dtm.word_count, axis=0)\n",
    "text_dtm.loc[2] = text_dtm.loc[0] - text_dtm.loc[1]"
   ]
  },
  {
   "cell_type": "code",
   "execution_count": null,
   "metadata": {},
   "outputs": [],
   "source": [
    "#print most distinctive words\n",
    "#R.E.M is postive, Arcade Fire is negative\n",
    "text_dtm.loc[2].sort_values(axis=0, ascending=False)"
   ]
  }
 ],
 "metadata": {
  "kernelspec": {
   "display_name": "Python 3",
   "language": "python",
   "name": "python3"
  },
  "language_info": {
   "codemirror_mode": {
    "name": "ipython",
    "version": 3
   },
   "file_extension": ".py",
   "mimetype": "text/x-python",
   "name": "python",
   "nbconvert_exporter": "python",
   "pygments_lexer": "ipython3",
   "version": "3.5.2"
  }
 },
 "nbformat": 4,
 "nbformat_minor": 2
}
