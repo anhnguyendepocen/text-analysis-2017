{
 "cells": [
  {
   "cell_type": "markdown",
   "metadata": {},
   "source": [
    "# the apply and the lambda functions\n",
    "\n",
    "In the last tutorial we learned how to apply functions to every row in a pandas df, and save the output to a new column. One way to do this is the apply function. In some cases, we have to use a lambda function. In this notebook I will try to clarify these two techniques and when you need to use one versus the other.\n",
    "\n",
    "First, read in our Children's Literature dataset, and do some of the pre-processing step we did in the tutorial. I'll do this in once chunk of code."
   ]
  },
  {
   "cell_type": "code",
   "execution_count": null,
   "metadata": {
    "collapsed": true
   },
   "outputs": [],
   "source": [
    "#import necessary modules\n",
    "import pandas\n",
    "import nltk\n",
    "import string\n",
    "\n",
    "#read in our data\n",
    "df = pandas.read_csv(\"../Data/childrens_lit.csv.bz2\", sep = '\\t', encoding = 'utf-8', compression = 'bz2', index_col=0)\n",
    "#drop missing texts\n",
    "df = df.dropna(subset=['text'])\n",
    "#split the text into a list\n",
    "df['text_split']=df['text'].str.split()"
   ]
  },
  {
   "cell_type": "markdown",
   "metadata": {},
   "source": [
    "If we want to do something to the entire value of the column cells we can use the apply function.\n",
    "\n",
    "For example, we want to take the length of the list we just created (the 'text_split' column), we can apply the len function."
   ]
  },
  {
   "cell_type": "code",
   "execution_count": null,
   "metadata": {
    "scrolled": true
   },
   "outputs": [],
   "source": [
    "df['word_count'] = df['text_split'].apply(len)\n",
    "df['word_count']"
   ]
  },
  {
   "cell_type": "markdown",
   "metadata": {},
   "source": [
    "We can also apply nltk functions, if it is done to the entire value of the column cells. So we can, for example, tokenize the title column."
   ]
  },
  {
   "cell_type": "code",
   "execution_count": null,
   "metadata": {
    "scrolled": true
   },
   "outputs": [],
   "source": [
    "df['title_token'] = df['title'].apply(nltk.word_tokenize)\n",
    "df['title_token']"
   ]
  },
  {
   "cell_type": "markdown",
   "metadata": {},
   "source": [
    "The lambda function is like the apply function, but allows us to do more if needed. We can re-do what we did above using the lambda function."
   ]
  },
  {
   "cell_type": "code",
   "execution_count": null,
   "metadata": {
    "scrolled": true
   },
   "outputs": [],
   "source": [
    "#apply the len function using .apply\n",
    "df['word_count'] = df['text_split'].apply(len)\n",
    "#apply the len function using lambda. This line does the same thing as line 2 above\n",
    "df['word_count_lambda'] = df['text_split'].apply(lambda x: len(x))\n",
    "\n",
    "#apply the nltk.word_tokenize function using .apply\n",
    "df['title_token'] = df['title'].apply(nltk.word_tokenize)\n",
    "#do the same using lambda. The next line does the same as line 7 above.\n",
    "df['title_token_lambda'] = df['title'].apply(lambda x: nltk.word_tokenize(x))\n",
    "\n",
    "df[['word_count', 'word_count_lambda','title_token', 'title_token_lambda']]"
   ]
  },
  {
   "cell_type": "markdown",
   "metadata": {},
   "source": [
    "Sometimes we can't use the apply function alone, we must also use the lambda function. This is the case if the column contains a list, and we want to loop through the list. For example, if we want to remove punctuation from our title tokens, we can do this using list comprehension. If we try to do this using apply only we get an error."
   ]
  },
  {
   "cell_type": "code",
   "execution_count": null,
   "metadata": {
    "scrolled": true
   },
   "outputs": [],
   "source": [
    "df['title_token_clean'] = df['title_token'].apply([word for word in df['title_token'] if word not in list(string.punctuation)])\n",
    "df['title_token_clean']"
   ]
  },
  {
   "cell_type": "markdown",
   "metadata": {},
   "source": [
    "We got a TypeError: 'list' object is not callable.\n",
    "\n",
    "If we try to indicate each element by a variable, for example the variable 'x', we get another error:\n",
    "NameError: name 'x' is not defined"
   ]
  },
  {
   "cell_type": "code",
   "execution_count": null,
   "metadata": {},
   "outputs": [],
   "source": [
    "df['title_token_clean'] = df['title_token'].apply([word for word in x if word not in list(string.punctuation)])\n",
    "df['title_token_clean']"
   ]
  },
  {
   "cell_type": "markdown",
   "metadata": {},
   "source": [
    "To make a list object callable and to define the variable to indicate each element in th list, we can write a lambda function."
   ]
  },
  {
   "cell_type": "code",
   "execution_count": null,
   "metadata": {
    "scrolled": true
   },
   "outputs": [],
   "source": [
    "df['title_token_clean'] = df['title_token'].apply(lambda x: [word for word in x if word not in list(string.punctuation)])\n",
    "df['title_token_clean']"
   ]
  },
  {
   "cell_type": "markdown",
   "metadata": {},
   "source": [
    "The lambda function, or nameless function, allows us to name each element of the list. In the case above we're indicating each element by the variable 'word', and indicating the title_token list as a whole by the variable 'x'. We then apply this lambda function to every row in our dataframe using the .apply function. The combination of apply and lambda allows us to do some really powerful things.\n",
    "\n",
    "Pandas is continuing to add functions so we won't always need to use lambda, but in some cases we still need it."
   ]
  }
 ],
 "metadata": {
  "kernelspec": {
   "display_name": "Python 3",
   "language": "python",
   "name": "python3"
  },
  "language_info": {
   "codemirror_mode": {
    "name": "ipython",
    "version": 3
   },
   "file_extension": ".py",
   "mimetype": "text/x-python",
   "name": "python",
   "nbconvert_exporter": "python",
   "pygments_lexer": "ipython3",
   "version": "3.5.2"
  }
 },
 "nbformat": 4,
 "nbformat_minor": 2
}
