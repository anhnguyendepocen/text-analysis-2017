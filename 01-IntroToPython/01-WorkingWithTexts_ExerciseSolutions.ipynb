{
 "cells": [
  {
   "cell_type": "markdown",
   "metadata": {},
   "source": [
    "## Working with Texts in Python\n",
    "\n",
    "Below is my solution to the exercises posed in the notebook 01-WorkingWithTexts.  \n",
    "As a reminder, you were asked to:"
   ]
  },
  {
   "cell_type": "markdown",
   "metadata": {},
   "source": [
    "Run the cell below to read in the text of \"Pride and Prejudice\" and assign it to the variable \"austen_string\" and read in the text of Louisa May Alcott's \"A Garland for Girls,\" a children's book, and assugn it to the variable \"aclott_string.\" With these variables, print the answer to the following questions\n",
    "\n",
    "1. How many words are in each novel?\n",
    "2. How many words in each novel appear in title case?\n",
    "3. What is the approximate average word length in each novel?\n",
    "4. How many words longer than 7 characters are in each novel? (don't worry about punctuation for now)\n",
    "5. What proportion of the total words are the long words in each novel?"
   ]
  },
  {
   "cell_type": "code",
   "execution_count": null,
   "metadata": {
    "collapsed": true
   },
   "outputs": [],
   "source": [
    "austen_string = open('../Data/Austen_PrideAndPrejudice.txt', encoding='utf-8').read()\n",
    "alcott_string = open('../Data/Alcott_GarlandForGirls.txt', encoding='utf-8').read()"
   ]
  },
  {
   "cell_type": "markdown",
   "metadata": {},
   "source": [
    "First, create variables that split the strings into lists of words. I'll print out the first 10 words to make sure everything looks good."
   ]
  },
  {
   "cell_type": "code",
   "execution_count": null,
   "metadata": {},
   "outputs": [],
   "source": [
    "austen_words = austen_string.split()\n",
    "alcott_words = alcott_string.split()\n",
    "print(austen_words[:10])\n",
    "print(alcott_words[:10])"
   ]
  },
  {
   "cell_type": "markdown",
   "metadata": {},
   "source": [
    "To count the number of words, simply take the length of each list and print the result. You can add print statements to make the output look prett."
   ]
  },
  {
   "cell_type": "code",
   "execution_count": null,
   "metadata": {
    "collapsed": true
   },
   "outputs": [],
   "source": [
    "#How many words are in each novel?\n",
    "print(\"Number of words in Pride and Prejudice:\")\n",
    "print(len(austen_words))\n",
    "print(\"Number of words in A Garland for Girls\")\n",
    "print(len(alcott_words))"
   ]
  },
  {
   "cell_type": "markdown",
   "metadata": {},
   "source": [
    "To count the number of words that are in title case we can use list comprehension."
   ]
  },
  {
   "cell_type": "code",
   "execution_count": null,
   "metadata": {
    "collapsed": true
   },
   "outputs": [],
   "source": [
    "#How many words in each novel appear in title case?\n",
    "print(\"Number of words in title case in Pride and Prejudice:\")\n",
    "print(len([word for word in austen_words if word.istitle()]))\n",
    "print(\"Number of words in title case in A Garland for Girls:\")\n",
    "print(len([word for word in alcott_words if word.istitle()]))"
   ]
  },
  {
   "cell_type": "markdown",
   "metadata": {},
   "source": [
    "To get the average length of the words in each novel we first transform each word into its length, using the len function and list comprehension. I'll print out the first 10 word length to make sure we did it right. We can then sum the list and divide by the total number of words."
   ]
  },
  {
   "cell_type": "code",
   "execution_count": null,
   "metadata": {
    "collapsed": true
   },
   "outputs": [],
   "source": [
    "austen_word_length = [len(word) for word in austen_words]\n",
    "print(austen_word_length[:10])\n",
    "alcott_word_length = [len(word) for word in alcott_words]\n",
    "print(alcott_word_length[:10])\n",
    "print(\"Average word length in Pride and Prejudice:\")\n",
    "print(sum(austen_word_length)/len(austen_word_length))\n",
    "print(\"Average word length in A Garland for Girls:\")\n",
    "print(sum(alcott_word_length)/len(alcott_word_length))"
   ]
  },
  {
   "cell_type": "markdown",
   "metadata": {},
   "source": [
    "To count the number of long words I create two new variables and use list comprehension to keep only words longer than 7 characters. I then divide the length of these lists by the total number of words, to get proportion."
   ]
  },
  {
   "cell_type": "code",
   "execution_count": null,
   "metadata": {
    "collapsed": true
   },
   "outputs": [],
   "source": [
    "##     How many words longer than 7 characters are in each novel? (don't worry about punctuation for now)\n",
    "##     What proportion of the total words are the long words in each novel\n",
    "\n",
    "austen_long = [word for word in austen_words if len(word)>7]\n",
    "print(\"Number of long words in Pride and Prejudice:\")\n",
    "print(len(austen_long))\n",
    "\n",
    "alcott_long = [word for word in alcott_words if len(word)>7]\n",
    "print(\"Number of long words in A Garland for Girls:\")\n",
    "print(len(alcott_long))\n",
    "\n",
    "print(\"Proportion of words that are long in Pride and Prejudice:\")\n",
    "print(len(austen_long)/len(austen_words))\n",
    "print(\"Proportion of words that are long in A Garland for Girls:\")\n",
    "print(len(alcott_long)/len(alcott_words))\n",
    "\n",
    "dir()\n",
    "locals()"
   ]
  },
  {
   "cell_type": "markdown",
   "metadata": {},
   "source": [
    "We find what we might expect: there are proportionally fewer long word in the children's novel *A Garland for Girls* (9.5%) compared to the adult novel *Pride and Prejudice* (15%)"
   ]
  }
 ],
 "metadata": {
  "kernelspec": {
   "display_name": "Python 3",
   "language": "python",
   "name": "python3"
  },
  "language_info": {
   "codemirror_mode": {
    "name": "ipython",
    "version": 3
   },
   "file_extension": ".py",
   "mimetype": "text/x-python",
   "name": "python",
   "nbconvert_exporter": "python",
   "pygments_lexer": "ipython3",
   "version": "3.5.2"
  }
 },
 "nbformat": 4,
 "nbformat_minor": 2
}
